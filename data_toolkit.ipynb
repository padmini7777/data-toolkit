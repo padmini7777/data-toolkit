{
  "nbformat": 4,
  "nbformat_minor": 0,
  "metadata": {
    "colab": {
      "provenance": []
    },
    "kernelspec": {
      "name": "python3",
      "display_name": "Python 3"
    },
    "language_info": {
      "name": "python"
    }
  },
  "cells": [
    {
      "cell_type": "markdown",
      "source": [
        "##Data Toolkit"
      ],
      "metadata": {
        "id": "XAe7d6fnBXTt"
      }
    },
    {
      "cell_type": "markdown",
      "source": [
        "###1.What is NumPy, and why is it widely used in Python?"
      ],
      "metadata": {
        "id": "RYWJJudJBXkQ"
      }
    },
    {
      "cell_type": "markdown",
      "source": [
        "Ans- NumPy is a Python library for numerical computing. It is widely used for its efficient array objects, fast mathematical operations, and integration with other libraries."
      ],
      "metadata": {
        "id": "WRjiQEdKBXmf"
      }
    },
    {
      "cell_type": "markdown",
      "source": [
        "###2. How does broadcasting work in NumPy?"
      ],
      "metadata": {
        "id": "r5y8WhRlBXpK"
      }
    },
    {
      "cell_type": "markdown",
      "source": [
        "Ans- Broadcasting in NumPy allows operations on arrays of different shapes by expanding smaller arrays to match the shape of larger ones."
      ],
      "metadata": {
        "id": "TIsCBa77BXrl"
      }
    },
    {
      "cell_type": "markdown",
      "source": [
        "###3. What is a Pandas DataFrame?"
      ],
      "metadata": {
        "id": "Um4WzOoFBXuF"
      }
    },
    {
      "cell_type": "markdown",
      "source": [
        "Ans- Pandas DataFrame is a 2D labeled data structure with columns of varying types, ideal for data manipulation and analysis."
      ],
      "metadata": {
        "id": "221zCdJ_BXwg"
      }
    },
    {
      "cell_type": "markdown",
      "source": [
        "###4. Explain the use of the groupby() method in Pandas."
      ],
      "metadata": {
        "id": "J1525YOxBXzC"
      }
    },
    {
      "cell_type": "markdown",
      "source": [
        "Ans- groupby() groups data by a criterion (e.g., a column) to perform aggregation, transformation, or filtration."
      ],
      "metadata": {
        "id": "Ipc-bTBfBX1W"
      }
    },
    {
      "cell_type": "markdown",
      "source": [
        "###5. Why is Seaborn preferred for statistical visualizations?"
      ],
      "metadata": {
        "id": "yW0qLzXXBX3v"
      }
    },
    {
      "cell_type": "markdown",
      "source": [
        "Ans- Seaborn simplifies statistical visualization with high-level interfaces for attractive plots (e.g., heatmaps, regression plots)."
      ],
      "metadata": {
        "id": "y_0Izu8WBX7W"
      }
    },
    {
      "cell_type": "markdown",
      "source": [
        "###6. What are the differences between NumPy arrays and Python lists?"
      ],
      "metadata": {
        "id": "rscmsm0-EIuP"
      }
    },
    {
      "cell_type": "markdown",
      "source": [
        "Ans- NumPy arrays are homogeneous, memory-efficient, and support vectorized operations. Python lists are heterogeneous and slower for numerical tasks.\n",
        "\n"
      ],
      "metadata": {
        "id": "WoZyctnwEIxh"
      }
    },
    {
      "cell_type": "markdown",
      "source": [
        "###7. What is a heatmap, and when should it be used?"
      ],
      "metadata": {
        "id": "gk6ftlsGEI1H"
      }
    },
    {
      "cell_type": "markdown",
      "source": [
        "Ans-\n",
        "Heatmap visualizes matrix data using colors, often for correlation matrices or to highlight patterns."
      ],
      "metadata": {
        "id": "JjbGB3dIEI4w"
      }
    },
    {
      "cell_type": "markdown",
      "source": [
        "###8. What does the term “vectorized operation” mean in NumPy?"
      ],
      "metadata": {
        "id": "gXRhcpQJEiEm"
      }
    },
    {
      "cell_type": "markdown",
      "source": [
        "Ans- Vectorized operations apply operations to entire arrays (without loops) for speed and readability.\n",
        "\n"
      ],
      "metadata": {
        "id": "QBpQb6t6Ejee"
      }
    },
    {
      "cell_type": "markdown",
      "source": [
        "###9. How does Matplotlib differ from Plotly?"
      ],
      "metadata": {
        "id": "dKtP2y4hEjXX"
      }
    },
    {
      "cell_type": "markdown",
      "source": [
        "Ans- Matplotlib creates static plots, while Plotly generates interactive, web-based visualizations."
      ],
      "metadata": {
        "id": "nskBNJJpEjMe"
      }
    },
    {
      "cell_type": "markdown",
      "source": [
        "###10. What is the significance of hierarchical indexing in Pandas?"
      ],
      "metadata": {
        "id": "1SdQ-H-2EjDm"
      }
    },
    {
      "cell_type": "markdown",
      "source": [
        "Ans- Hierarchical indexing (MultiIndex) enables complex data manipulation across multiple dimensions."
      ],
      "metadata": {
        "id": "_fEdK2BXFEt9"
      }
    },
    {
      "cell_type": "markdown",
      "source": [
        "###11. What is the role of Seaborn’s pairplot() function?"
      ],
      "metadata": {
        "id": "gQQbBU6SFFcH"
      }
    },
    {
      "cell_type": "markdown",
      "source": [
        "Ans- pairplot() in Seaborn plots pairwise relationships in a dataset (scatter plots and histograms)."
      ],
      "metadata": {
        "id": "T01NNHT6FFYm"
      }
    },
    {
      "cell_type": "markdown",
      "source": [
        "###12. What is the purpose of the describe() function in Pandas?"
      ],
      "metadata": {
        "id": "_Y8ct5YZFFT9"
      }
    },
    {
      "cell_type": "markdown",
      "source": [
        "Ans- describe() provides summary statistics (mean, std, min, max) for numerical columns."
      ],
      "metadata": {
        "id": "OOMyPkl7FFL5"
      }
    },
    {
      "cell_type": "markdown",
      "source": [
        "###13. Why is handling missing data important in Pandas?"
      ],
      "metadata": {
        "id": "MZzy_2LVFFDe"
      }
    },
    {
      "cell_type": "markdown",
      "source": [
        "Ans- Handling missing data ensures analysis accuracy by addressing gaps (e.g., via imputation or removal).\n",
        "\n"
      ],
      "metadata": {
        "id": "l9Bgwg2Ah_1T"
      }
    },
    {
      "cell_type": "markdown",
      "source": [
        "###14. What are the benefits of using Plotly for data visualization?"
      ],
      "metadata": {
        "id": "Fkb-NDVsh_x5"
      }
    },
    {
      "cell_type": "markdown",
      "source": [
        "Ans- Plotly offers interactivity, 3D plots, and web compatibility for dynamic visualizations.\n",
        "\n"
      ],
      "metadata": {
        "id": "CYbAL19Ah_uS"
      }
    },
    {
      "cell_type": "markdown",
      "source": [
        "###15. How does NumPy handle multidimensional arrays?"
      ],
      "metadata": {
        "id": "GUTHukx2h_qy"
      }
    },
    {
      "cell_type": "markdown",
      "source": [
        "Ans- NumPy handles multidimensional arrays via contiguous memory blocks and efficient indexing."
      ],
      "metadata": {
        "id": "ob8DVY21h_eJ"
      }
    },
    {
      "cell_type": "markdown",
      "source": [
        "###16. What is the role of Bokeh in data visualization?"
      ],
      "metadata": {
        "id": "F6dLWwvah_ZT"
      }
    },
    {
      "cell_type": "markdown",
      "source": [
        "Ans- Bokeh creates interactive, web-ready plots for dashboards and real-time data."
      ],
      "metadata": {
        "id": "oYdoxgdmh_V8"
      }
    },
    {
      "cell_type": "markdown",
      "source": [
        "###17. Explain the difference between apply() and map() in Pandas?"
      ],
      "metadata": {
        "id": "6pkJCx6oh_Sj"
      }
    },
    {
      "cell_type": "markdown",
      "source": [
        "Ans- apply() applies functions across DataFrame axes; map() substitutes Series values."
      ],
      "metadata": {
        "id": "jRGU8xZIh_Oi"
      }
    },
    {
      "cell_type": "markdown",
      "source": [
        "###18. What are some advanced features of NumPy?"
      ],
      "metadata": {
        "id": "BHgd9fpzh_KJ"
      }
    },
    {
      "cell_type": "markdown",
      "source": [
        "Ans- Advanced NumPy features: ufuncs, broadcasting, advanced indexing, and C integration."
      ],
      "metadata": {
        "id": "Eu5WkljQh-kF"
      }
    },
    {
      "cell_type": "markdown",
      "source": [
        "###19. How does Pandas simplify time series analysis?"
      ],
      "metadata": {
        "id": "Cx7JL1o6i55a"
      }
    },
    {
      "cell_type": "markdown",
      "source": [
        "Ans- Pandas simplifies time series with date ranges, resampling, rolling windows, and time zone handling."
      ],
      "metadata": {
        "id": "ovoDQZNTi7or"
      }
    },
    {
      "cell_type": "markdown",
      "source": [
        "###20. What is the role of a pivot table in Pandas?"
      ],
      "metadata": {
        "id": "gXsCoYeii7RC"
      }
    },
    {
      "cell_type": "markdown",
      "source": [
        "Ans- Pivot tables summarize and aggregate data by reshaping and computing metrics."
      ],
      "metadata": {
        "id": "CERUchcUi7Mh"
      }
    },
    {
      "cell_type": "markdown",
      "source": [
        "###21. Why is NumPy’s array slicing faster than Python’s list slicing?"
      ],
      "metadata": {
        "id": "fcSDZ7lHi7G7"
      }
    },
    {
      "cell_type": "markdown",
      "source": [
        "Ans- NumPy slicing is faster due to contiguous memory, unlike Python lists (pointer-based)."
      ],
      "metadata": {
        "id": "2I-4Loi9i7B6"
      }
    },
    {
      "cell_type": "markdown",
      "source": [
        "###22. What are some common use cases for Seaborn?"
      ],
      "metadata": {
        "id": "QervPxJPi69U"
      }
    },
    {
      "cell_type": "markdown",
      "source": [
        "Ans- Seaborn use cases: distributions, relationships, categorical data, and statistical models."
      ],
      "metadata": {
        "id": "mslgpp3Qi65C"
      }
    },
    {
      "cell_type": "markdown",
      "source": [
        "##Practical answers"
      ],
      "metadata": {
        "id": "sYqkMTENi6zy"
      }
    },
    {
      "cell_type": "markdown",
      "source": [
        "###1. How do you create a 2D NumPy array and calculate the sum of each row?"
      ],
      "metadata": {
        "id": "IULP_6Xli6uL"
      }
    },
    {
      "cell_type": "code",
      "source": [
        "import numpy as np\n",
        "arr = np.array([[1, 2], [3, 4]])\n",
        "row_sums = arr.sum(axis=1)"
      ],
      "metadata": {
        "id": "8rvO2GzGj7tr"
      },
      "execution_count": 1,
      "outputs": []
    },
    {
      "cell_type": "markdown",
      "source": [
        "###2. Write a Pandas script to find the mean of a specific column in a DataFrame?"
      ],
      "metadata": {
        "id": "SA7gxd1hi6mx"
      }
    },
    {
      "cell_type": "code",
      "source": [
        "import pandas as pd\n",
        "df = pd.DataFrame({'A': [1, 2, 3]})\n",
        "mean_A = df['A'].mean()"
      ],
      "metadata": {
        "id": "6-8hG4U9kNRr"
      },
      "execution_count": 2,
      "outputs": []
    },
    {
      "cell_type": "markdown",
      "source": [
        "###3. Create a scatter plot using Matplotlib."
      ],
      "metadata": {
        "id": "0E-XZOdWi6ez"
      }
    },
    {
      "cell_type": "code",
      "source": [
        "import matplotlib.pyplot as plt\n",
        "plt.scatter([1, 2, 3], [4, 5, 6])\n",
        "plt.show()"
      ],
      "metadata": {
        "colab": {
          "base_uri": "https://localhost:8080/",
          "height": 430
        },
        "id": "92vaUJo1kc3y",
        "outputId": "03c2e26e-6c92-483c-cfbe-85ad3f69c138"
      },
      "execution_count": 4,
      "outputs": [
        {
          "output_type": "display_data",
          "data": {
            "text/plain": [
              "<Figure size 640x480 with 1 Axes>"
            ],
            "image/png": "[encoded data removed]"
          },
          "metadata": {}
        }
      ]
    },
    {
      "cell_type": "markdown",
      "source": [
        "###4. How do you calculate the correlation matrix using Seaborn and visualize it with a heatmap?"
      ],
      "metadata": {
        "id": "B9sPDFdri6SB"
      }
    },
    {
      "cell_type": "code",
      "source": [
        "import seaborn as sns\n",
        "corr = df.corr()\n",
        "sns.heatmap(corr, annot=True)"
      ],
      "metadata": {
        "colab": {
          "base_uri": "https://localhost:8080/",
          "height": 453
        },
        "id": "uIMn5VGwlAZK",
        "outputId": "d0d09d50-8fd7-4ad5-c473-996c1859780f"
      },
      "execution_count": 5,
      "outputs": [
        {
          "output_type": "execute_result",
          "data": {
            "text/plain": [
              "<Axes: >"
            ]
          },
          "metadata": {},
          "execution_count": 5
        },
        {
          "output_type": "display_data",
          "data": {
            "text/plain": [
              "<Figure size 640x480 with 2 Axes>"
            ],
            "image/png": "[encoded data removed]"
          },
          "metadata": {}
        }
      ]
    },
    {
      "cell_type": "markdown",
      "source": [
        "###5. Generate a bar plot using Plotly?"
      ],
      "metadata": {
        "id": "dp_zvtM2lN2S"
      }
    },
    {
      "cell_type": "code",
      "source": [
        "import plotly.express as px\n",
        "fig = px.bar(x=['A', 'B'], y=[3, 5])\n",
        "fig.show()"
      ],
      "metadata": {
        "colab": {
          "base_uri": "https://localhost:8080/",
          "height": 542
        },
        "id": "bjtZ1RrIlSew",
        "outputId": "43ec0015-8cde-417c-81b6-c047a3e4585a"
      },
      "execution_count": 6,
      "outputs": [
        {
          "output_type": "display_data",
          "data": {
            "text/html": [
              "<html>\n",
              "<head><meta charset=\"utf-8\" /></head>\n",
              "<body>\n",
              "    <div>            <script src=\"https://cdnjs.cloudflare.com/ajax/libs/mathjax/2.7.5/MathJax.js?config=TeX-AMS-MML_SVG\"></script><script type=\"text/javascript\">if (window.MathJax && window.MathJax.Hub && window.MathJax.Hub.Config) {window.MathJax.Hub.Config({SVG: {font: \"STIX-Web\"}});}</script>                <script type=\"text/javascript\">window.PlotlyConfig = {MathJaxConfig: 'local'};</script>\n",
              "        <script charset=\"utf-8\" src=\"https://cdn.plot.ly/plotly-2.35.2.min.js\"></script>                <div id=\"63568377-8220-452e-aee4-7b68a8a69cf1\" class=\"plotly-graph-div\" style=\"height:525px; width:100%;\"></div>            <script type=\"text/javascript\">                                    window.PLOTLYENV=window.PLOTLYENV || {};                                    if (document.getElementById(\"63568377-8220-452e-aee4-7b68a8a69cf1\")) {                    Plotly.newPlot(                        \"63568377-8220-452e-aee4-7b68a8a69cf1\",                        [{\"alignmentgroup\":\"True\",\"hovertemplate\":\"x=%{x}\\u003cbr\\u003ey=%{y}\\u003cextra\\u003e\\u003c\\u002fextra\\u003e\",\"legendgroup\":\"\",\"marker\":{\"color\":\"#636efa\",\"pattern\":{\"shape\":\"\"}},\"name\":\"\",\"offsetgroup\":\"\",\"orientation\":\"v\",\"showlegend\":false,\"textposition\":\"auto\",\"x\":[\"A\",\"B\"],\"xaxis\":\"x\",\"y\":[3,5],\"yaxis\":\"y\",\"type\":\"bar\"}],                        {\"template\":{\"data\":{\"histogram2dcontour\":[{\"type\":\"histogram2dcontour\",\"colorbar\":{\"outlinewidth\":0,\"ticks\":\"\"},\"colorscale\":[[0.0,\"#0d0887\"],[0.1111111111111111,\"#46039f\"],[0.2222222222222222,\"#7201a8\"],[0.3333333333333333,\"#9c179e\"],[0.4444444444444444,\"#bd3786\"],[0.5555555555555556,\"#d8576b\"],[0.6666666666666666,\"#ed7953\"],[0.7777777777777778,\"#fb9f3a\"],[0.8888888888888888,\"#fdca26\"],[1.0,\"#f0f921\"]]}],\"choropleth\":[{\"type\":\"choropleth\",\"colorbar\":{\"outlinewidth\":0,\"ticks\":\"\"}}],\"histogram2d\":[{\"type\":\"histogram2d\",\"colorbar\":{\"outlinewidth\":0,\"ticks\":\"\"},\"colorscale\":[[0.0,\"#0d0887\"],[0.1111111111111111,\"#46039f\"],[0.2222222222222222,\"#7201a8\"],[0.3333333333333333,\"#9c179e\"],[0.4444444444444444,\"#bd3786\"],[0.5555555555555556,\"#d8576b\"],[0.6666666666666666,\"#ed7953\"],[0.7777777777777778,\"#fb9f3a\"],[0.8888888888888888,\"#fdca26\"],[1.0,\"#f0f921\"]]}],\"heatmap\":[{\"type\":\"heatmap\",\"colorbar\":{\"outlinewidth\":0,\"ticks\":\"\"},\"colorscale\":[[0.0,\"#0d0887\"],[0.1111111111111111,\"#46039f\"],[0.2222222222222222,\"#7201a8\"],[0.3333333333333333,\"#9c179e\"],[0.4444444444444444,\"#bd3786\"],[0.5555555555555556,\"#d8576b\"],[0.6666666666666666,\"#ed7953\"],[0.7777777777777778,\"#fb9f3a\"],[0.8888888888888888,\"#fdca26\"],[1.0,\"#f0f921\"]]}],\"heatmapgl\":[{\"type\":\"heatmapgl\",\"colorbar\":{\"outlinewidth\":0,\"ticks\":\"\"},\"colorscale\":[[0.0,\"#0d0887\"],[0.1111111111111111,\"#46039f\"],[0.2222222222222222,\"#7201a8\"],[0.3333333333333333,\"#9c179e\"],[0.4444444444444444,\"#bd3786\"],[0.5555555555555556,\"#d8576b\"],[0.6666666666666666,\"#ed7953\"],[0.7777777777777778,\"#fb9f3a\"],[0.8888888888888888,\"#fdca26\"],[1.0,\"#f0f921\"]]}],\"contourcarpet\":[{\"type\":\"contourcarpet\",\"colorbar\":{\"outlinewidth\":0,\"ticks\":\"\"}}],\"contour\":[{\"type\":\"contour\",\"colorbar\":{\"outlinewidth\":0,\"ticks\":\"\"},\"colorscale\":[[0.0,\"#0d0887\"],[0.1111111111111111,\"#46039f\"],[0.2222222222222222,\"#7201a8\"],[0.3333333333333333,\"#9c179e\"],[0.4444444444444444,\"#bd3786\"],[0.5555555555555556,\"#d8576b\"],[0.6666666666666666,\"#ed7953\"],[0.7777777777777778,\"#fb9f3a\"],[0.8888888888888888,\"#fdca26\"],[1.0,\"#f0f921\"]]}],\"surface\":[{\"type\":\"surface\",\"colorbar\":{\"outlinewidth\":0,\"ticks\":\"\"},\"colorscale\":[[0.0,\"#0d0887\"],[0.1111111111111111,\"#46039f\"],[0.2222222222222222,\"#7201a8\"],[0.3333333333333333,\"#9c179e\"],[0.4444444444444444,\"#bd3786\"],[0.5555555555555556,\"#d8576b\"],[0.6666666666666666,\"#ed7953\"],[0.7777777777777778,\"#fb9f3a\"],[0.8888888888888888,\"#fdca26\"],[1.0,\"#f0f921\"]]}],\"mesh3d\":[{\"type\":\"mesh3d\",\"colorbar\":{\"outlinewidth\":0,\"ticks\":\"\"}}],\"scatter\":[{\"fillpattern\":{\"fillmode\":\"overlay\",\"size\":10,\"solidity\":0.2},\"type\":\"scatter\"}],\"parcoords\":[{\"type\":\"parcoords\",\"line\":{\"colorbar\":{\"outlinewidth\":0,\"ticks\":\"\"}}}],\"scatterpolargl\":[{\"type\":\"scatterpolargl\",\"marker\":{\"colorbar\":{\"outlinewidth\":0,\"ticks\":\"\"}}}],\"bar\":[{\"error_x\":{\"color\":\"#2a3f5f\"},\"error_y\":{\"color\":\"#2a3f5f\"},\"marker\":{\"line\":{\"color\":\"#E5ECF6\",\"width\":0.5},\"pattern\":{\"fillmode\":\"overlay\",\"size\":10,\"solidity\":0.2}},\"type\":\"bar\"}],\"scattergeo\":[{\"type\":\"scattergeo\",\"marker\":{\"colorbar\":{\"outlinewidth\":0,\"ticks\":\"\"}}}],\"scatterpolar\":[{\"type\":\"scatterpolar\",\"marker\":{\"colorbar\":{\"outlinewidth\":0,\"ticks\":\"\"}}}],\"histogram\":[{\"marker\":{\"pattern\":{\"fillmode\":\"overlay\",\"size\":10,\"solidity\":0.2}},\"type\":\"histogram\"}],\"scattergl\":[{\"type\":\"scattergl\",\"marker\":{\"colorbar\":{\"outlinewidth\":0,\"ticks\":\"\"}}}],\"scatter3d\":[{\"type\":\"scatter3d\",\"line\":{\"colorbar\":{\"outlinewidth\":0,\"ticks\":\"\"}},\"marker\":{\"colorbar\":{\"outlinewidth\":0,\"ticks\":\"\"}}}],\"scattermapbox\":[{\"type\":\"scattermapbox\",\"marker\":{\"colorbar\":{\"outlinewidth\":0,\"ticks\":\"\"}}}],\"scatterternary\":[{\"type\":\"scatterternary\",\"marker\":{\"colorbar\":{\"outlinewidth\":0,\"ticks\":\"\"}}}],\"scattercarpet\":[{\"type\":\"scattercarpet\",\"marker\":{\"colorbar\":{\"outlinewidth\":0,\"ticks\":\"\"}}}],\"carpet\":[{\"aaxis\":{\"endlinecolor\":\"#2a3f5f\",\"gridcolor\":\"white\",\"linecolor\":\"white\",\"minorgridcolor\":\"white\",\"startlinecolor\":\"#2a3f5f\"},\"baxis\":{\"endlinecolor\":\"#2a3f5f\",\"gridcolor\":\"white\",\"linecolor\":\"white\",\"minorgridcolor\":\"white\",\"startlinecolor\":\"#2a3f5f\"},\"type\":\"carpet\"}],\"table\":[{\"cells\":{\"fill\":{\"color\":\"#EBF0F8\"},\"line\":{\"color\":\"white\"}},\"header\":{\"fill\":{\"color\":\"#C8D4E3\"},\"line\":{\"color\":\"white\"}},\"type\":\"table\"}],\"barpolar\":[{\"marker\":{\"line\":{\"color\":\"#E5ECF6\",\"width\":0.5},\"pattern\":{\"fillmode\":\"overlay\",\"size\":10,\"solidity\":0.2}},\"type\":\"barpolar\"}],\"pie\":[{\"automargin\":true,\"type\":\"pie\"}]},\"layout\":{\"autotypenumbers\":\"strict\",\"colorway\":[\"#636efa\",\"#EF553B\",\"#00cc96\",\"#ab63fa\",\"#FFA15A\",\"#19d3f3\",\"#FF6692\",\"#B6E880\",\"#FF97FF\",\"#FECB52\"],\"font\":{\"color\":\"#2a3f5f\"},\"hovermode\":\"closest\",\"hoverlabel\":{\"align\":\"left\"},\"paper_bgcolor\":\"white\",\"plot_bgcolor\":\"#E5ECF6\",\"polar\":{\"bgcolor\":\"#E5ECF6\",\"angularaxis\":{\"gridcolor\":\"white\",\"linecolor\":\"white\",\"ticks\":\"\"},\"radialaxis\":{\"gridcolor\":\"white\",\"linecolor\":\"white\",\"ticks\":\"\"}},\"ternary\":{\"bgcolor\":\"#E5ECF6\",\"aaxis\":{\"gridcolor\":\"white\",\"linecolor\":\"white\",\"ticks\":\"\"},\"baxis\":{\"gridcolor\":\"white\",\"linecolor\":\"white\",\"ticks\":\"\"},\"caxis\":{\"gridcolor\":\"white\",\"linecolor\":\"white\",\"ticks\":\"\"}},\"coloraxis\":{\"colorbar\":{\"outlinewidth\":0,\"ticks\":\"\"}},\"colorscale\":{\"sequential\":[[0.0,\"#0d0887\"],[0.1111111111111111,\"#46039f\"],[0.2222222222222222,\"#7201a8\"],[0.3333333333333333,\"#9c179e\"],[0.4444444444444444,\"#bd3786\"],[0.5555555555555556,\"#d8576b\"],[0.6666666666666666,\"#ed7953\"],[0.7777777777777778,\"#fb9f3a\"],[0.8888888888888888,\"#fdca26\"],[1.0,\"#f0f921\"]],\"sequentialminus\":[[0.0,\"#0d0887\"],[0.1111111111111111,\"#46039f\"],[0.2222222222222222,\"#7201a8\"],[0.3333333333333333,\"#9c179e\"],[0.4444444444444444,\"#bd3786\"],[0.5555555555555556,\"#d8576b\"],[0.6666666666666666,\"#ed7953\"],[0.7777777777777778,\"#fb9f3a\"],[0.8888888888888888,\"#fdca26\"],[1.0,\"#f0f921\"]],\"diverging\":[[0,\"#8e0152\"],[0.1,\"#c51b7d\"],[0.2,\"#de77ae\"],[0.3,\"#f1b6da\"],[0.4,\"#fde0ef\"],[0.5,\"#f7f7f7\"],[0.6,\"#e6f5d0\"],[0.7,\"#b8e186\"],[0.8,\"#7fbc41\"],[0.9,\"#4d9221\"],[1,\"#276419\"]]},\"xaxis\":{\"gridcolor\":\"white\",\"linecolor\":\"white\",\"ticks\":\"\",\"title\":{\"standoff\":15},\"zerolinecolor\":\"white\",\"automargin\":true,\"zerolinewidth\":2},\"yaxis\":{\"gridcolor\":\"white\",\"linecolor\":\"white\",\"ticks\":\"\",\"title\":{\"standoff\":15},\"zerolinecolor\":\"white\",\"automargin\":true,\"zerolinewidth\":2},\"scene\":{\"xaxis\":{\"backgroundcolor\":\"#E5ECF6\",\"gridcolor\":\"white\",\"linecolor\":\"white\",\"showbackground\":true,\"ticks\":\"\",\"zerolinecolor\":\"white\",\"gridwidth\":2},\"yaxis\":{\"backgroundcolor\":\"#E5ECF6\",\"gridcolor\":\"white\",\"linecolor\":\"white\",\"showbackground\":true,\"ticks\":\"\",\"zerolinecolor\":\"white\",\"gridwidth\":2},\"zaxis\":{\"backgroundcolor\":\"#E5ECF6\",\"gridcolor\":\"white\",\"linecolor\":\"white\",\"showbackground\":true,\"ticks\":\"\",\"zerolinecolor\":\"white\",\"gridwidth\":2}},\"shapedefaults\":{\"line\":{\"color\":\"#2a3f5f\"}},\"annotationdefaults\":{\"arrowcolor\":\"#2a3f5f\",\"arrowhead\":0,\"arrowwidth\":1},\"geo\":{\"bgcolor\":\"white\",\"landcolor\":\"#E5ECF6\",\"subunitcolor\":\"white\",\"showland\":true,\"showlakes\":true,\"lakecolor\":\"white\"},\"title\":{\"x\":0.05},\"mapbox\":{\"style\":\"light\"}}},\"xaxis\":{\"anchor\":\"y\",\"domain\":[0.0,1.0],\"title\":{\"text\":\"x\"}},\"yaxis\":{\"anchor\":\"x\",\"domain\":[0.0,1.0],\"title\":{\"text\":\"y\"}},\"legend\":{\"tracegroupgap\":0},\"margin\":{\"t\":60},\"barmode\":\"relative\"},                        {\"responsive\": true}                    ).then(function(){\n",
              "                            \n",
              "var gd = document.getElementById('63568377-8220-452e-aee4-7b68a8a69cf1');\n",
              "var x = new MutationObserver(function (mutations, observer) {{\n",
              "        var display = window.getComputedStyle(gd).display;\n",
              "        if (!display || display === 'none') {{\n",
              "            console.log([gd, 'removed!']);\n",
              "            Plotly.purge(gd);\n",
              "            observer.disconnect();\n",
              "        }}\n",
              "}});\n",
              "\n",
              "// Listen for the removal of the full notebook cells\n",
              "var notebookContainer = gd.closest('#notebook-container');\n",
              "if (notebookContainer) {{\n",
              "    x.observe(notebookContainer, {childList: true});\n",
              "}}\n",
              "\n",
              "// Listen for the clearing of the current output cell\n",
              "var outputEl = gd.closest('.output');\n",
              "if (outputEl) {{\n",
              "    x.observe(outputEl, {childList: true});\n",
              "}}\n",
              "\n",
              "                        })                };                            </script>        </div>\n",
              "</body>\n",
              "</html>"
            ]
          },
          "metadata": {}
        }
      ]
    },
    {
      "cell_type": "markdown",
      "source": [
        "###6.Create a DataFrame and add a new column based on an existing column?"
      ],
      "metadata": {
        "id": "xr-jhtnWldnm"
      }
    },
    {
      "cell_type": "code",
      "source": [
        "import pandas as pd\n",
        "\n",
        "# Create a DataFrame (if not already defined)\n",
        "data = {'Existing': [10, 20, 30]}\n",
        "df = pd.DataFrame(data)\n",
        "# Add a new column based on the 'Existing' column\n",
        "df['New'] = df['Existing'] * 2\n",
        "\n",
        "print(df)"
      ],
      "metadata": {
        "colab": {
          "base_uri": "https://localhost:8080/"
        },
        "id": "Q7eZuqsllssD",
        "outputId": "63fb1160-7410-4259-cf8f-7bd7fee23a57"
      },
      "execution_count": 10,
      "outputs": [
        {
          "output_type": "stream",
          "name": "stdout",
          "text": [
            "   Existing  New\n",
            "0        10   20\n",
            "1        20   40\n",
            "2        30   60\n"
          ]
        }
      ]
    },
    {
      "cell_type": "markdown",
      "source": [
        "###7. Write a program to perform element-wise multiplication of two NumPy arrays."
      ],
      "metadata": {
        "id": "T-KeKGG0mOgC"
      }
    },
    {
      "cell_type": "code",
      "source": [
        "import numpy as np\n",
        "\n",
        "a = np.array([1, 2])\n",
        "b = np.array([3, 4])\n",
        "result = a * b  # Element-wise multiplication\n",
        "\n",
        "print(result)"
      ],
      "metadata": {
        "colab": {
          "base_uri": "https://localhost:8080/"
        },
        "id": "ok5W9PRumXOY",
        "outputId": "4811cbcf-7f6f-4bcb-af8a-172f2eb3aa96"
      },
      "execution_count": 16,
      "outputs": [
        {
          "output_type": "stream",
          "name": "stdout",
          "text": [
            "[3 8]\n"
          ]
        }
      ]
    },
    {
      "cell_type": "markdown",
      "source": [
        "###8. Create a line plot with multiple lines using Matplotlib."
      ],
      "metadata": {
        "id": "YUezAfPQnTUH"
      }
    },
    {
      "cell_type": "code",
      "source": [
        "plt.plot([1, 2, 3], [4, 5, 6], label='Line 1')\n",
        "plt.plot([1, 2, 3], [7, 8, 9], label='Line 2')\n",
        "plt.legend(); plt.show()"
      ],
      "metadata": {
        "colab": {
          "base_uri": "https://localhost:8080/",
          "height": 430
        },
        "id": "L5RQKQ6fnYPA",
        "outputId": "67811828-d565-43ec-d792-d78d77ec5083"
      },
      "execution_count": 17,
      "outputs": [
        {
          "output_type": "display_data",
          "data": {
            "text/plain": [
              "<Figure size 640x480 with 1 Axes>"
            ],
            "image/png": "[encoded data removed]"
          },
          "metadata": {}
        }
      ]
    },
    {
      "cell_type": "markdown",
      "source": [
        "###9. Generate a Pandas DataFrame and filter rows where a column value is greater than a threshold."
      ],
      "metadata": {
        "id": "fpXjodvVnoih"
      }
    },
    {
      "cell_type": "code",
      "source": [
        "import pandas as pd\n",
        "\n",
        "# Create a sample DataFrame\n",
        "data = {'Score': [15, 25, 5, 35, 45]}\n",
        "df = pd.DataFrame(data)\n",
        "\n",
        "# Define the threshold\n",
        "threshold = 20\n",
        "\n",
        "# Filter rows where 'Score' > threshold\n",
        "filtered_df = df[df['Score'] > threshold]\n",
        "\n",
        "print(filtered_df)"
      ],
      "metadata": {
        "colab": {
          "base_uri": "https://localhost:8080/"
        },
        "id": "EK__bTHhn9vh",
        "outputId": "b7b61917-f869-43a2-cc28-98875aa3322d"
      },
      "execution_count": 19,
      "outputs": [
        {
          "output_type": "stream",
          "name": "stdout",
          "text": [
            "   Score\n",
            "1     25\n",
            "3     35\n",
            "4     45\n"
          ]
        }
      ]
    },
    {
      "cell_type": "markdown",
      "source": [
        "###10. Create a histogram using Seaborn to visualize a distribution."
      ],
      "metadata": {
        "id": "mCNAAKWaoRcp"
      }
    },
    {
      "cell_type": "code",
      "source": [
        "import seaborn as sns\n",
        "data = {'Values': [1, 2, 2, 3, 3, 3, 4, 4, 5]}\n",
        "df = pd.DataFrame(data)\n",
        "sns.histplot(data=df, x='Values', kde=True, bins=5)\n",
        "plt.show()"
      ],
      "metadata": {
        "colab": {
          "base_uri": "https://localhost:8080/",
          "height": 449
        },
        "id": "HNhmrWhkoXEP",
        "outputId": "83a3fe47-1233-4dad-9e7c-653d7120af5d"
      },
      "execution_count": 21,
      "outputs": [
        {
          "output_type": "display_data",
          "data": {
            "text/plain": [
              "<Figure size 640x480 with 1 Axes>"
            ],
            "image/png": "[encoded data removed]"
          },
          "metadata": {}
        }
      ]
    },
    {
      "cell_type": "markdown",
      "source": [
        "###11. Perform matrix multiplication using NumPy."
      ],
      "metadata": {
        "id": "WGfHEGmXpXZp"
      }
    },
    {
      "cell_type": "code",
      "source": [
        "import numpy as np\n",
        "a = np.array([[1, 2], [3, 4]])\n",
        "b = np.array([[5, 6], [7, 8]])\n",
        "result = a @ b  # or np.dot(a, b)\n",
        "print(result)"
      ],
      "metadata": {
        "colab": {
          "base_uri": "https://localhost:8080/"
        },
        "id": "Kktk8MkSpd63",
        "outputId": "062b13d9-acd3-4e57-ac45-f7a119e40e7e"
      },
      "execution_count": 22,
      "outputs": [
        {
          "output_type": "stream",
          "name": "stdout",
          "text": [
            "[[19 22]\n",
            " [43 50]]\n"
          ]
        }
      ]
    },
    {
      "cell_type": "markdown",
      "source": [
        "###12. Use Pandas to load a CSV file and display its first 5 row."
      ],
      "metadata": {
        "id": "NyN9qhTxpkr4"
      }
    },
    {
      "cell_type": "code",
      "source": [
        "import pandas as pd\n",
        "df = pd.read_csv('services.csv')\n",
        "print(df.head(5))"
      ],
      "metadata": {
        "colab": {
          "base_uri": "https://localhost:8080/"
        },
        "id": "x_-zx6jajGEq",
        "outputId": "a007844a-e7f0-45ea-aa73-879cd2202c43"
      },
      "execution_count": 3,
      "outputs": [
        {
          "output_type": "stream",
          "name": "stdout",
          "text": [
            "   id  location_id  program_id accepted_payments alternate_name  \\\n",
            "0   1            1         NaN               NaN            NaN   \n",
            "1   2            2         NaN               NaN            NaN   \n",
            "2   3            3         NaN               NaN            NaN   \n",
            "3   4            4         NaN               NaN            NaN   \n",
            "4   5            5         NaN               NaN            NaN   \n",
            "\n",
            "                           application_process  \\\n",
            "0                   Walk in or apply by phone.   \n",
            "1           Apply by phone for an appointment.   \n",
            "2  Phone for information (403-4300 Ext. 4322).   \n",
            "3                              Apply by phone.   \n",
            "4                       Phone for information.   \n",
            "\n",
            "                                            audience  \\\n",
            "0  Older adults age 55 or over, ethnic minorities...   \n",
            "1       Residents of San Mateo County age 55 or over   \n",
            "2  Older adults age 55 or over who can benefit fr...   \n",
            "3  Parents, children, families with problems of c...   \n",
            "4  Low-income working families with children tran...   \n",
            "\n",
            "                                         description  \\\n",
            "0  A walk-in center for older adults that provide...   \n",
            "1  Provides training and job placement to eligibl...   \n",
            "2  Offers supportive counseling services to San M...   \n",
            "3  Provides supervised visitation services and a ...   \n",
            "4  Provides fixed 8% short term loans to eligible...   \n",
            "\n",
            "                                         eligibility email  ...  \\\n",
            "0  Age 55 or over for most programs, age 60 or ov...   NaN  ...   \n",
            "1  Age 55 or over, county resident and willing an...   NaN  ...   \n",
            "2        Resident of San Mateo County age 55 or over   NaN  ...   \n",
            "3                                                NaN   NaN  ...   \n",
            "4  Eligibility: Low-income family with legal cust...   NaN  ...   \n",
            "\n",
            "  interpretation_services                                           keywords  \\\n",
            "0                     NaN  ADULT PROTECTION AND CARE SERVICES, Meal Sites...   \n",
            "1                     NaN  EMPLOYMENT/TRAINING SERVICES, Job Development,...   \n",
            "2                     NaN  Geriatric Counseling, Older Adults, Gay, Lesbi...   \n",
            "3                     NaN  INDIVIDUAL AND FAMILY DEVELOPMENT SERVICES, Gr...   \n",
            "4                     NaN     COMMUNITY SERVICES, Speakers, Automobile Loans   \n",
            "\n",
            "  languages                               name required_documents  \\\n",
            "0       NaN    Fair Oaks Adult Activity Center                NaN   \n",
            "1       NaN   Second Career Employment Program                NaN   \n",
            "2       NaN             Senior Peer Counseling                NaN   \n",
            "3       NaN           Family Visitation Center                NaN   \n",
            "4       NaN  Economic Self-Sufficiency Program                NaN   \n",
            "\n",
            "      service_areas  status wait_time website taxonomy_ids  \n",
            "0             Colma  active  No wait.     NaN          NaN  \n",
            "1  San Mateo County  active   Varies.     NaN          NaN  \n",
            "2  San Mateo County  active   Varies.     NaN          NaN  \n",
            "3  San Mateo County  active  No wait.     NaN          NaN  \n",
            "4  San Mateo County  active       NaN     NaN          NaN  \n",
            "\n",
            "[5 rows x 22 columns]\n"
          ]
        }
      ]
    },
    {
      "cell_type": "markdown",
      "source": [
        "###13. Create a 3D scatter plot using Plotly."
      ],
      "metadata": {
        "id": "bxDbjmZiuADm"
      }
    },
    {
      "cell_type": "code",
      "source": [
        "import plotly.express as px\n",
        "df = pd.DataFrame({'x': [1, 2, 3], 'y': [4, 5, 6], 'z': [7, 8, 9]})\n",
        "fig = px.scatter_3d(df, x='x', y='y', z='z', title=\"3D Scatter Plot\")\n",
        "fig.show()"
      ],
      "metadata": {
        "colab": {
          "base_uri": "https://localhost:8080/",
          "height": 542
        },
        "id": "aW9bytxnuFPu",
        "outputId": "11f38403-11ce-45ca-b190-ee5d0f2cdbee"
      },
      "execution_count": 26,
      "outputs": [
        {
          "output_type": "display_data",
          "data": {
            "text/html": [
              "<html>\n",
              "<head><meta charset=\"utf-8\" /></head>\n",
              "<body>\n",
              "    <div>            <script src=\"https://cdnjs.cloudflare.com/ajax/libs/mathjax/2.7.5/MathJax.js?config=TeX-AMS-MML_SVG\"></script><script type=\"text/javascript\">if (window.MathJax && window.MathJax.Hub && window.MathJax.Hub.Config) {window.MathJax.Hub.Config({SVG: {font: \"STIX-Web\"}});}</script>                <script type=\"text/javascript\">window.PlotlyConfig = {MathJaxConfig: 'local'};</script>\n",
              "        <script charset=\"utf-8\" src=\"https://cdn.plot.ly/plotly-2.35.2.min.js\"></script>                <div id=\"1a3b2d10-4a2e-4a06-a0e7-aba09bcfb1bf\" class=\"plotly-graph-div\" style=\"height:525px; width:100%;\"></div>            <script type=\"text/javascript\">                                    window.PLOTLYENV=window.PLOTLYENV || {};                                    if (document.getElementById(\"1a3b2d10-4a2e-4a06-a0e7-aba09bcfb1bf\")) {                    Plotly.newPlot(                        \"1a3b2d10-4a2e-4a06-a0e7-aba09bcfb1bf\",                        [{\"hovertemplate\":\"x=%{x}\\u003cbr\\u003ey=%{y}\\u003cbr\\u003ez=%{z}\\u003cextra\\u003e\\u003c\\u002fextra\\u003e\",\"legendgroup\":\"\",\"marker\":{\"color\":\"#636efa\",\"symbol\":\"circle\"},\"mode\":\"markers\",\"name\":\"\",\"scene\":\"scene\",\"showlegend\":false,\"x\":[1,2,3],\"y\":[4,5,6],\"z\":[7,8,9],\"type\":\"scatter3d\"}],                        {\"template\":{\"data\":{\"histogram2dcontour\":[{\"type\":\"histogram2dcontour\",\"colorbar\":{\"outlinewidth\":0,\"ticks\":\"\"},\"colorscale\":[[0.0,\"#0d0887\"],[0.1111111111111111,\"#46039f\"],[0.2222222222222222,\"#7201a8\"],[0.3333333333333333,\"#9c179e\"],[0.4444444444444444,\"#bd3786\"],[0.5555555555555556,\"#d8576b\"],[0.6666666666666666,\"#ed7953\"],[0.7777777777777778,\"#fb9f3a\"],[0.8888888888888888,\"#fdca26\"],[1.0,\"#f0f921\"]]}],\"choropleth\":[{\"type\":\"choropleth\",\"colorbar\":{\"outlinewidth\":0,\"ticks\":\"\"}}],\"histogram2d\":[{\"type\":\"histogram2d\",\"colorbar\":{\"outlinewidth\":0,\"ticks\":\"\"},\"colorscale\":[[0.0,\"#0d0887\"],[0.1111111111111111,\"#46039f\"],[0.2222222222222222,\"#7201a8\"],[0.3333333333333333,\"#9c179e\"],[0.4444444444444444,\"#bd3786\"],[0.5555555555555556,\"#d8576b\"],[0.6666666666666666,\"#ed7953\"],[0.7777777777777778,\"#fb9f3a\"],[0.8888888888888888,\"#fdca26\"],[1.0,\"#f0f921\"]]}],\"heatmap\":[{\"type\":\"heatmap\",\"colorbar\":{\"outlinewidth\":0,\"ticks\":\"\"},\"colorscale\":[[0.0,\"#0d0887\"],[0.1111111111111111,\"#46039f\"],[0.2222222222222222,\"#7201a8\"],[0.3333333333333333,\"#9c179e\"],[0.4444444444444444,\"#bd3786\"],[0.5555555555555556,\"#d8576b\"],[0.6666666666666666,\"#ed7953\"],[0.7777777777777778,\"#fb9f3a\"],[0.8888888888888888,\"#fdca26\"],[1.0,\"#f0f921\"]]}],\"heatmapgl\":[{\"type\":\"heatmapgl\",\"colorbar\":{\"outlinewidth\":0,\"ticks\":\"\"},\"colorscale\":[[0.0,\"#0d0887\"],[0.1111111111111111,\"#46039f\"],[0.2222222222222222,\"#7201a8\"],[0.3333333333333333,\"#9c179e\"],[0.4444444444444444,\"#bd3786\"],[0.5555555555555556,\"#d8576b\"],[0.6666666666666666,\"#ed7953\"],[0.7777777777777778,\"#fb9f3a\"],[0.8888888888888888,\"#fdca26\"],[1.0,\"#f0f921\"]]}],\"contourcarpet\":[{\"type\":\"contourcarpet\",\"colorbar\":{\"outlinewidth\":0,\"ticks\":\"\"}}],\"contour\":[{\"type\":\"contour\",\"colorbar\":{\"outlinewidth\":0,\"ticks\":\"\"},\"colorscale\":[[0.0,\"#0d0887\"],[0.1111111111111111,\"#46039f\"],[0.2222222222222222,\"#7201a8\"],[0.3333333333333333,\"#9c179e\"],[0.4444444444444444,\"#bd3786\"],[0.5555555555555556,\"#d8576b\"],[0.6666666666666666,\"#ed7953\"],[0.7777777777777778,\"#fb9f3a\"],[0.8888888888888888,\"#fdca26\"],[1.0,\"#f0f921\"]]}],\"surface\":[{\"type\":\"surface\",\"colorbar\":{\"outlinewidth\":0,\"ticks\":\"\"},\"colorscale\":[[0.0,\"#0d0887\"],[0.1111111111111111,\"#46039f\"],[0.2222222222222222,\"#7201a8\"],[0.3333333333333333,\"#9c179e\"],[0.4444444444444444,\"#bd3786\"],[0.5555555555555556,\"#d8576b\"],[0.6666666666666666,\"#ed7953\"],[0.7777777777777778,\"#fb9f3a\"],[0.8888888888888888,\"#fdca26\"],[1.0,\"#f0f921\"]]}],\"mesh3d\":[{\"type\":\"mesh3d\",\"colorbar\":{\"outlinewidth\":0,\"ticks\":\"\"}}],\"scatter\":[{\"fillpattern\":{\"fillmode\":\"overlay\",\"size\":10,\"solidity\":0.2},\"type\":\"scatter\"}],\"parcoords\":[{\"type\":\"parcoords\",\"line\":{\"colorbar\":{\"outlinewidth\":0,\"ticks\":\"\"}}}],\"scatterpolargl\":[{\"type\":\"scatterpolargl\",\"marker\":{\"colorbar\":{\"outlinewidth\":0,\"ticks\":\"\"}}}],\"bar\":[{\"error_x\":{\"color\":\"#2a3f5f\"},\"error_y\":{\"color\":\"#2a3f5f\"},\"marker\":{\"line\":{\"color\":\"#E5ECF6\",\"width\":0.5},\"pattern\":{\"fillmode\":\"overlay\",\"size\":10,\"solidity\":0.2}},\"type\":\"bar\"}],\"scattergeo\":[{\"type\":\"scattergeo\",\"marker\":{\"colorbar\":{\"outlinewidth\":0,\"ticks\":\"\"}}}],\"scatterpolar\":[{\"type\":\"scatterpolar\",\"marker\":{\"colorbar\":{\"outlinewidth\":0,\"ticks\":\"\"}}}],\"histogram\":[{\"marker\":{\"pattern\":{\"fillmode\":\"overlay\",\"size\":10,\"solidity\":0.2}},\"type\":\"histogram\"}],\"scattergl\":[{\"type\":\"scattergl\",\"marker\":{\"colorbar\":{\"outlinewidth\":0,\"ticks\":\"\"}}}],\"scatter3d\":[{\"type\":\"scatter3d\",\"line\":{\"colorbar\":{\"outlinewidth\":0,\"ticks\":\"\"}},\"marker\":{\"colorbar\":{\"outlinewidth\":0,\"ticks\":\"\"}}}],\"scattermapbox\":[{\"type\":\"scattermapbox\",\"marker\":{\"colorbar\":{\"outlinewidth\":0,\"ticks\":\"\"}}}],\"scatterternary\":[{\"type\":\"scatterternary\",\"marker\":{\"colorbar\":{\"outlinewidth\":0,\"ticks\":\"\"}}}],\"scattercarpet\":[{\"type\":\"scattercarpet\",\"marker\":{\"colorbar\":{\"outlinewidth\":0,\"ticks\":\"\"}}}],\"carpet\":[{\"aaxis\":{\"endlinecolor\":\"#2a3f5f\",\"gridcolor\":\"white\",\"linecolor\":\"white\",\"minorgridcolor\":\"white\",\"startlinecolor\":\"#2a3f5f\"},\"baxis\":{\"endlinecolor\":\"#2a3f5f\",\"gridcolor\":\"white\",\"linecolor\":\"white\",\"minorgridcolor\":\"white\",\"startlinecolor\":\"#2a3f5f\"},\"type\":\"carpet\"}],\"table\":[{\"cells\":{\"fill\":{\"color\":\"#EBF0F8\"},\"line\":{\"color\":\"white\"}},\"header\":{\"fill\":{\"color\":\"#C8D4E3\"},\"line\":{\"color\":\"white\"}},\"type\":\"table\"}],\"barpolar\":[{\"marker\":{\"line\":{\"color\":\"#E5ECF6\",\"width\":0.5},\"pattern\":{\"fillmode\":\"overlay\",\"size\":10,\"solidity\":0.2}},\"type\":\"barpolar\"}],\"pie\":[{\"automargin\":true,\"type\":\"pie\"}]},\"layout\":{\"autotypenumbers\":\"strict\",\"colorway\":[\"#636efa\",\"#EF553B\",\"#00cc96\",\"#ab63fa\",\"#FFA15A\",\"#19d3f3\",\"#FF6692\",\"#B6E880\",\"#FF97FF\",\"#FECB52\"],\"font\":{\"color\":\"#2a3f5f\"},\"hovermode\":\"closest\",\"hoverlabel\":{\"align\":\"left\"},\"paper_bgcolor\":\"white\",\"plot_bgcolor\":\"#E5ECF6\",\"polar\":{\"bgcolor\":\"#E5ECF6\",\"angularaxis\":{\"gridcolor\":\"white\",\"linecolor\":\"white\",\"ticks\":\"\"},\"radialaxis\":{\"gridcolor\":\"white\",\"linecolor\":\"white\",\"ticks\":\"\"}},\"ternary\":{\"bgcolor\":\"#E5ECF6\",\"aaxis\":{\"gridcolor\":\"white\",\"linecolor\":\"white\",\"ticks\":\"\"},\"baxis\":{\"gridcolor\":\"white\",\"linecolor\":\"white\",\"ticks\":\"\"},\"caxis\":{\"gridcolor\":\"white\",\"linecolor\":\"white\",\"ticks\":\"\"}},\"coloraxis\":{\"colorbar\":{\"outlinewidth\":0,\"ticks\":\"\"}},\"colorscale\":{\"sequential\":[[0.0,\"#0d0887\"],[0.1111111111111111,\"#46039f\"],[0.2222222222222222,\"#7201a8\"],[0.3333333333333333,\"#9c179e\"],[0.4444444444444444,\"#bd3786\"],[0.5555555555555556,\"#d8576b\"],[0.6666666666666666,\"#ed7953\"],[0.7777777777777778,\"#fb9f3a\"],[0.8888888888888888,\"#fdca26\"],[1.0,\"#f0f921\"]],\"sequentialminus\":[[0.0,\"#0d0887\"],[0.1111111111111111,\"#46039f\"],[0.2222222222222222,\"#7201a8\"],[0.3333333333333333,\"#9c179e\"],[0.4444444444444444,\"#bd3786\"],[0.5555555555555556,\"#d8576b\"],[0.6666666666666666,\"#ed7953\"],[0.7777777777777778,\"#fb9f3a\"],[0.8888888888888888,\"#fdca26\"],[1.0,\"#f0f921\"]],\"diverging\":[[0,\"#8e0152\"],[0.1,\"#c51b7d\"],[0.2,\"#de77ae\"],[0.3,\"#f1b6da\"],[0.4,\"#fde0ef\"],[0.5,\"#f7f7f7\"],[0.6,\"#e6f5d0\"],[0.7,\"#b8e186\"],[0.8,\"#7fbc41\"],[0.9,\"#4d9221\"],[1,\"#276419\"]]},\"xaxis\":{\"gridcolor\":\"white\",\"linecolor\":\"white\",\"ticks\":\"\",\"title\":{\"standoff\":15},\"zerolinecolor\":\"white\",\"automargin\":true,\"zerolinewidth\":2},\"yaxis\":{\"gridcolor\":\"white\",\"linecolor\":\"white\",\"ticks\":\"\",\"title\":{\"standoff\":15},\"zerolinecolor\":\"white\",\"automargin\":true,\"zerolinewidth\":2},\"scene\":{\"xaxis\":{\"backgroundcolor\":\"#E5ECF6\",\"gridcolor\":\"white\",\"linecolor\":\"white\",\"showbackground\":true,\"ticks\":\"\",\"zerolinecolor\":\"white\",\"gridwidth\":2},\"yaxis\":{\"backgroundcolor\":\"#E5ECF6\",\"gridcolor\":\"white\",\"linecolor\":\"white\",\"showbackground\":true,\"ticks\":\"\",\"zerolinecolor\":\"white\",\"gridwidth\":2},\"zaxis\":{\"backgroundcolor\":\"#E5ECF6\",\"gridcolor\":\"white\",\"linecolor\":\"white\",\"showbackground\":true,\"ticks\":\"\",\"zerolinecolor\":\"white\",\"gridwidth\":2}},\"shapedefaults\":{\"line\":{\"color\":\"#2a3f5f\"}},\"annotationdefaults\":{\"arrowcolor\":\"#2a3f5f\",\"arrowhead\":0,\"arrowwidth\":1},\"geo\":{\"bgcolor\":\"white\",\"landcolor\":\"#E5ECF6\",\"subunitcolor\":\"white\",\"showland\":true,\"showlakes\":true,\"lakecolor\":\"white\"},\"title\":{\"x\":0.05},\"mapbox\":{\"style\":\"light\"}}},\"scene\":{\"domain\":{\"x\":[0.0,1.0],\"y\":[0.0,1.0]},\"xaxis\":{\"title\":{\"text\":\"x\"}},\"yaxis\":{\"title\":{\"text\":\"y\"}},\"zaxis\":{\"title\":{\"text\":\"z\"}}},\"legend\":{\"tracegroupgap\":0},\"title\":{\"text\":\"3D Scatter Plot\"}},                        {\"responsive\": true}                    ).then(function(){\n",
              "                            \n",
              "var gd = document.getElementById('1a3b2d10-4a2e-4a06-a0e7-aba09bcfb1bf');\n",
              "var x = new MutationObserver(function (mutations, observer) {{\n",
              "        var display = window.getComputedStyle(gd).display;\n",
              "        if (!display || display === 'none') {{\n",
              "            console.log([gd, 'removed!']);\n",
              "            Plotly.purge(gd);\n",
              "            observer.disconnect();\n",
              "        }}\n",
              "}});\n",
              "\n",
              "// Listen for the removal of the full notebook cells\n",
              "var notebookContainer = gd.closest('#notebook-container');\n",
              "if (notebookContainer) {{\n",
              "    x.observe(notebookContainer, {childList: true});\n",
              "}}\n",
              "\n",
              "// Listen for the clearing of the current output cell\n",
              "var outputEl = gd.closest('.output');\n",
              "if (outputEl) {{\n",
              "    x.observe(outputEl, {childList: true});\n",
              "}}\n",
              "\n",
              "                        })                };                            </script>        </div>\n",
              "</body>\n",
              "</html>"
            ]
          },
          "metadata": {}
        }
      ]
    },
    {
      "cell_type": "markdown",
      "source": [
        "#Thank you:)"
      ],
      "metadata": {
        "id": "0xH5cJJGuV7f"
      }
    }
  ]
}